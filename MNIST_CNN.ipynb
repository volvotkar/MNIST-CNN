{
  "nbformat": 4,
  "nbformat_minor": 0,
  "metadata": {
    "colab": {
      "provenance": [],
      "gpuType": "T4",
      "authorship_tag": "ABX9TyPwzGbgGo7sQQFp9ufvy541",
      "include_colab_link": true
    },
    "kernelspec": {
      "name": "python3",
      "display_name": "Python 3"
    },
    "language_info": {
      "name": "python"
    },
    "accelerator": "GPU"
  },
  "cells": [
    {
      "cell_type": "markdown",
      "metadata": {
        "id": "view-in-github",
        "colab_type": "text"
      },
      "source": [
        "<a href=\"https://colab.research.google.com/github/volvotkar/MNIST-CNN/blob/main/MNIST_CNN.ipynb\" target=\"_parent\"><img src=\"https://colab.research.google.com/assets/colab-badge.svg\" alt=\"Open In Colab\"/></a>"
      ]
    },
    {
      "cell_type": "code",
      "execution_count": 2,
      "metadata": {
        "id": "nn95yHZ8vh4E"
      },
      "outputs": [],
      "source": [
        "import keras"
      ]
    },
    {
      "cell_type": "code",
      "source": [
        "mnist = keras.datasets.mnist"
      ],
      "metadata": {
        "id": "Am5U7yPsvmOc"
      },
      "execution_count": 3,
      "outputs": []
    },
    {
      "cell_type": "code",
      "source": [
        "(X_train, y_train), (X_test, y_test) = mnist.load_data()"
      ],
      "metadata": {
        "colab": {
          "base_uri": "https://localhost:8080/"
        },
        "id": "tBN30zuWv_Xh",
        "outputId": "e84a9ae6-239c-44d6-8497-fac5102ecb25"
      },
      "execution_count": 4,
      "outputs": [
        {
          "output_type": "stream",
          "name": "stdout",
          "text": [
            "Downloading data from https://storage.googleapis.com/tensorflow/tf-keras-datasets/mnist.npz\n",
            "11490434/11490434 [==============================] - 0s 0us/step\n"
          ]
        }
      ]
    },
    {
      "cell_type": "code",
      "source": [
        "import matplotlib.pyplot as plt\n",
        "plt.imshow(X_train[0])\n",
        "plt.show()\n",
        "\n",
        "print(y_train[0])"
      ],
      "metadata": {
        "colab": {
          "base_uri": "https://localhost:8080/",
          "height": 448
        },
        "id": "zHOysm5dwPX3",
        "outputId": "5a21bb81-db47-4047-b47f-5a63f1992124"
      },
      "execution_count": 5,
      "outputs": [
        {
          "output_type": "display_data",
          "data": {
            "text/plain": [
              "<Figure size 640x480 with 1 Axes>"
            ],
            "image/png": "[encoded data removed]"
          },
          "metadata": {}
        },
        {
          "output_type": "stream",
          "name": "stdout",
          "text": [
            "5\n"
          ]
        }
      ]
    },
    {
      "cell_type": "code",
      "source": [
        "X_train = X_train.reshape(X_train.shape[0], 28, 28, 1)\n",
        "X_test = X_test.reshape(X_test.shape[0], 28, 28, 1)\n",
        "\n",
        "input_shape = (28, 28, 1)\n",
        "\n",
        "X_train = X_train.astype(\"float32\")\n",
        "X_train /= 255\n",
        "\n",
        "X_test = X_test.astype(\"float32\")\n",
        "X_test /= 255"
      ],
      "metadata": {
        "id": "uimCzPLQwVt9"
      },
      "execution_count": 6,
      "outputs": []
    },
    {
      "cell_type": "code",
      "source": [
        "print(y_train[0])\n",
        "\n",
        "y_train = keras.utils.to_categorical(y_train, 10)\n",
        "y_test = keras.utils.to_categorical(y_test, 10)\n",
        "\n",
        "print(y_train[0])"
      ],
      "metadata": {
        "colab": {
          "base_uri": "https://localhost:8080/"
        },
        "id": "6UDD0awgxRBG",
        "outputId": "10f71c75-26a2-4796-e91c-9821e1dc665d"
      },
      "execution_count": 7,
      "outputs": [
        {
          "output_type": "stream",
          "name": "stdout",
          "text": [
            "5\n",
            "[0. 0. 0. 0. 0. 1. 0. 0. 0. 0.]\n"
          ]
        }
      ]
    },
    {
      "cell_type": "code",
      "source": [
        "# Model\n",
        "model = keras.models.Sequential()\n",
        "\n",
        "model.add(keras.layers.Conv2D(32, kernel_size=(3,3), activation='relu', input_shape=input_shape))\n",
        "model.add(keras.layers.Conv2D(64, (3,3), activation='relu'))\n",
        "model.add(keras.layers.MaxPooling2D(pool_size=(2,2)))\n",
        "model.add(keras.layers.Dropout(0.25))\n",
        "model.add(keras.layers.Flatten())\n",
        "model.add(keras.layers.Dense(128, activation='relu'))\n",
        "model.add(keras.layers.Dropout(0.5))\n",
        "model.add(keras.layers.Dense(10, activation='softmax'))"
      ],
      "metadata": {
        "id": "HMs3TJvTxlBg"
      },
      "execution_count": 8,
      "outputs": []
    },
    {
      "cell_type": "code",
      "source": [
        "# Training\n",
        "model.compile(loss=keras.losses.categorical_crossentropy, optimizer=keras.optimizers.Adadelta(), metrics=['accuracy'])\n",
        "\n",
        "history = model.fit(X_train, y_train, batch_size=128, epochs=20, validation_data=(X_test, y_test))"
      ],
      "metadata": {
        "colab": {
          "base_uri": "https://localhost:8080/"
        },
        "id": "AOD9wEe3xyZu",
        "outputId": "ea3e27bf-f400-4aa5-d3bc-54fb3442b634"
      },
      "execution_count": 12,
      "outputs": [
        {
          "output_type": "stream",
          "name": "stdout",
          "text": [
            "Epoch 1/20\n",
            "469/469 [==============================] - 6s 10ms/step - loss: 0.6901 - accuracy: 0.7890 - val_loss: 0.4730 - val_accuracy: 0.8798\n",
            "Epoch 2/20\n",
            "469/469 [==============================] - 4s 9ms/step - loss: 0.6668 - accuracy: 0.7955 - val_loss: 0.4575 - val_accuracy: 0.8828\n",
            "Epoch 3/20\n",
            "469/469 [==============================] - 5s 10ms/step - loss: 0.6487 - accuracy: 0.8021 - val_loss: 0.4434 - val_accuracy: 0.8853\n",
            "Epoch 4/20\n",
            "469/469 [==============================] - 4s 9ms/step - loss: 0.6376 - accuracy: 0.8060 - val_loss: 0.4314 - val_accuracy: 0.8872\n",
            "Epoch 5/20\n",
            "469/469 [==============================] - 6s 12ms/step - loss: 0.6180 - accuracy: 0.8104 - val_loss: 0.4195 - val_accuracy: 0.8897\n",
            "Epoch 6/20\n",
            "469/469 [==============================] - 4s 9ms/step - loss: 0.6105 - accuracy: 0.8142 - val_loss: 0.4093 - val_accuracy: 0.8914\n",
            "Epoch 7/20\n",
            "469/469 [==============================] - 4s 9ms/step - loss: 0.5998 - accuracy: 0.8159 - val_loss: 0.4005 - val_accuracy: 0.8936\n",
            "Epoch 8/20\n",
            "469/469 [==============================] - 4s 10ms/step - loss: 0.5885 - accuracy: 0.8194 - val_loss: 0.3926 - val_accuracy: 0.8948\n",
            "Epoch 9/20\n",
            "469/469 [==============================] - 4s 9ms/step - loss: 0.5749 - accuracy: 0.8256 - val_loss: 0.3842 - val_accuracy: 0.8966\n",
            "Epoch 10/20\n",
            "469/469 [==============================] - 4s 9ms/step - loss: 0.5655 - accuracy: 0.8281 - val_loss: 0.3773 - val_accuracy: 0.8977\n",
            "Epoch 11/20\n",
            "469/469 [==============================] - 5s 10ms/step - loss: 0.5586 - accuracy: 0.8294 - val_loss: 0.3706 - val_accuracy: 0.8993\n",
            "Epoch 12/20\n",
            "469/469 [==============================] - 4s 9ms/step - loss: 0.5491 - accuracy: 0.8337 - val_loss: 0.3643 - val_accuracy: 0.9004\n",
            "Epoch 13/20\n",
            "469/469 [==============================] - 5s 10ms/step - loss: 0.5406 - accuracy: 0.8354 - val_loss: 0.3583 - val_accuracy: 0.9027\n",
            "Epoch 14/20\n",
            "469/469 [==============================] - 4s 9ms/step - loss: 0.5343 - accuracy: 0.8370 - val_loss: 0.3533 - val_accuracy: 0.9034\n",
            "Epoch 15/20\n",
            "469/469 [==============================] - 4s 9ms/step - loss: 0.5284 - accuracy: 0.8408 - val_loss: 0.3475 - val_accuracy: 0.9044\n",
            "Epoch 16/20\n",
            "469/469 [==============================] - 5s 10ms/step - loss: 0.5173 - accuracy: 0.8421 - val_loss: 0.3429 - val_accuracy: 0.9052\n",
            "Epoch 17/20\n",
            "469/469 [==============================] - 4s 9ms/step - loss: 0.5136 - accuracy: 0.8448 - val_loss: 0.3385 - val_accuracy: 0.9064\n",
            "Epoch 18/20\n",
            "469/469 [==============================] - 4s 9ms/step - loss: 0.5061 - accuracy: 0.8461 - val_loss: 0.3335 - val_accuracy: 0.9077\n",
            "Epoch 19/20\n",
            "469/469 [==============================] - 5s 10ms/step - loss: 0.4999 - accuracy: 0.8486 - val_loss: 0.3292 - val_accuracy: 0.9085\n",
            "Epoch 20/20\n",
            "469/469 [==============================] - 4s 9ms/step - loss: 0.4969 - accuracy: 0.8503 - val_loss: 0.3253 - val_accuracy: 0.9097\n"
          ]
        }
      ]
    },
    {
      "cell_type": "code",
      "source": [
        "print(model.evaluate(X_test, y_test))\n",
        "\n",
        "\n",
        "# Plot training loss\n",
        "plt.plot(history.history['loss'], label='Training Loss')\n",
        "plt.plot(history.history['val_loss'], label='Validation Loss')\n",
        "plt.title('Training Loss')\n",
        "plt.xlabel('Epoch')\n",
        "plt.ylabel('Loss')\n",
        "plt.legend()\n",
        "plt.show()"
      ],
      "metadata": {
        "colab": {
          "base_uri": "https://localhost:8080/",
          "height": 509
        },
        "id": "-jxgZZoazgzL",
        "outputId": "af01a968-632d-40cf-c409-4aa930def811"
      },
      "execution_count": 13,
      "outputs": [
        {
          "output_type": "stream",
          "name": "stdout",
          "text": [
            "313/313 [==============================] - 1s 3ms/step - loss: 0.3253 - accuracy: 0.9097\n",
            "[0.32525768876075745, 0.9096999764442444]\n"
          ]
        },
        {
          "output_type": "display_data",
          "data": {
            "text/plain": [
              "<Figure size 640x480 with 1 Axes>"
            ],
            "image/png": "[encoded data removed]"
          },
          "metadata": {}
        }
      ]
    },
    {
      "cell_type": "code",
      "source": [
        "test_image = X_test[23]\n",
        "\n",
        "# Plot the test image\n",
        "plt.imshow(test_image, cmap='gray')\n",
        "plt.show()\n",
        "\n",
        "# Reshape the test image to match the input shape expected by your model\n",
        "test_image = test_image.reshape(1, 28, 28, 1)\n",
        "\n",
        "# Normalize the pixel values (assuming your model was trained with normalized data)\n",
        "test_image = test_image.astype('float32') / 255\n",
        "\n",
        "# Predict the class probabilities\n",
        "class_probabilities = model.predict(test_image)\n",
        "\n",
        "# Get the predicted class (index of the class with the highest probability)\n",
        "predicted_class = class_probabilities.argmax()\n",
        "\n",
        "print(\"Predicted Class:\", predicted_class)"
      ],
      "metadata": {
        "colab": {
          "base_uri": "https://localhost:8080/",
          "height": 467
        },
        "id": "YhkSrfBA0RwH",
        "outputId": "b23d0542-71e9-4bed-c3c7-ce183f6e5726"
      },
      "execution_count": 14,
      "outputs": [
        {
          "output_type": "display_data",
          "data": {
            "text/plain": [
              "<Figure size 640x480 with 1 Axes>"
            ],
            "image/png": "[encoded data removed]"
          },
          "metadata": {}
        },
        {
          "output_type": "stream",
          "name": "stdout",
          "text": [
            "1/1 [==============================] - 0s 63ms/step\n",
            "Predicted Class: 5\n"
          ]
        }
      ]
    },
    {
      "cell_type": "code",
      "source": [],
      "metadata": {
        "id": "aneNZYvD0vCq"
      },
      "execution_count": 11,
      "outputs": []
    }
  ]
}